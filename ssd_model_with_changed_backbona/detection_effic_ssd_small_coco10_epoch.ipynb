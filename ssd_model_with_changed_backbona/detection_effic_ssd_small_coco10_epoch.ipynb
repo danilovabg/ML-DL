{
 "cells": [
  {
   "cell_type": "code",
   "execution_count": 13,
   "metadata": {},
   "outputs": [],
   "source": [
    "import numpy as np\n",
    "import torch\n",
    "import torch.nn.functional as F\n",
    "import mmcv\n",
    "from mmdet.models import SingleStageDetector\n",
    "from mmdet.apis import set_random_seed\n",
    "from mmcv import Config\n",
    "from mmdet.apis import init_detector, inference_detector"
   ]
  },
  {
   "cell_type": "code",
   "execution_count": 14,
   "metadata": {},
   "outputs": [
    {
     "name": "stdout",
     "output_type": "stream",
     "text": [
      "Config:\n",
      "input_size = 300\n",
      "model = dict(\n",
      "    type='SingleStageDetector',\n",
      "    backbone=dict(\n",
      "        type='EfficientNet',\n",
      "        arch='b3',\n",
      "        drop_path_rate=0.0,\n",
      "        out_indices=(3, ),\n",
      "        conv_cfg=dict(type='Conv2dAdaptivePadding'),\n",
      "        norm_cfg=dict(eps=0.001, type='BN'),\n",
      "        act_cfg=dict(type='Swish'),\n",
      "        norm_eval=False,\n",
      "        with_cp=False,\n",
      "        init_cfg=[\n",
      "            dict(type='Kaiming', layer='Conv2d'),\n",
      "            dict(type='Constant', layer=['_BatchNorm', 'GroupNorm'], val=1)\n",
      "        ]),\n",
      "    neck=dict(\n",
      "        type='SSDNeck',\n",
      "        in_channels=(512, 1024),\n",
      "        out_channels=(512, 1024, 512, 256, 256, 256),\n",
      "        level_strides=(2, 2, 1, 1),\n",
      "        level_paddings=(1, 1, 0, 0),\n",
      "        l2_norm_scale=20),\n",
      "    bbox_head=dict(\n",
      "        type='SSDHead',\n",
      "        in_channels=(512, 1024, 512, 256, 256, 256),\n",
      "        num_classes=1,\n",
      "        anchor_generator=dict(\n",
      "            type='SSDAnchorGenerator',\n",
      "            scale_major=False,\n",
      "            input_size=300,\n",
      "            basesize_ratio_range=(0.15, 0.9),\n",
      "            strides=[8, 16, 32, 64, 100, 300],\n",
      "            ratios=[[2], [2, 3], [2, 3], [2, 3], [2], [2]]),\n",
      "        bbox_coder=dict(\n",
      "            type='DeltaXYWHBBoxCoder',\n",
      "            target_means=[0.0, 0.0, 0.0, 0.0],\n",
      "            target_stds=[0.1, 0.1, 0.2, 0.2])),\n",
      "    train_cfg=dict(\n",
      "        assigner=dict(\n",
      "            type='MaxIoUAssigner',\n",
      "            pos_iou_thr=0.5,\n",
      "            neg_iou_thr=0.5,\n",
      "            min_pos_iou=0.0,\n",
      "            ignore_iof_thr=-1,\n",
      "            gt_max_assign_all=False),\n",
      "        smoothl1_beta=1.0,\n",
      "        allowed_border=-1,\n",
      "        pos_weight=-1,\n",
      "        neg_pos_ratio=3,\n",
      "        debug=False),\n",
      "    test_cfg=dict(\n",
      "        nms_pre=1000,\n",
      "        nms=dict(type='nms', iou_threshold=0.45),\n",
      "        min_bbox_size=0,\n",
      "        score_thr=0.02,\n",
      "        max_per_img=200))\n",
      "cudnn_benchmark = True\n",
      "dataset_type = 'CocoDataset'\n",
      "data_root = '/home/anna/Загрузки/mmdetection/data/coco/'\n",
      "img_norm_cfg = dict(mean=[123.675, 116.28, 103.53], std=[1, 1, 1], to_rgb=True)\n",
      "train_pipeline = [\n",
      "    dict(type='LoadImageFromFile'),\n",
      "    dict(type='LoadAnnotations', with_bbox=True),\n",
      "    dict(\n",
      "        type='Expand',\n",
      "        mean=[123.675, 116.28, 103.53],\n",
      "        to_rgb=True,\n",
      "        ratio_range=(1, 4)),\n",
      "    dict(\n",
      "        type='MinIoURandomCrop',\n",
      "        min_ious=(0.1, 0.3, 0.5, 0.7, 0.9),\n",
      "        min_crop_size=0.3),\n",
      "    dict(type='Resize', img_scale=(300, 300), keep_ratio=False),\n",
      "    dict(type='RandomFlip', flip_ratio=0.5),\n",
      "    dict(\n",
      "        type='PhotoMetricDistortion',\n",
      "        brightness_delta=32,\n",
      "        contrast_range=(0.5, 1.5),\n",
      "        saturation_range=(0.5, 1.5),\n",
      "        hue_delta=18),\n",
      "    dict(\n",
      "        type='Normalize',\n",
      "        mean=[123.675, 116.28, 103.53],\n",
      "        std=[1, 1, 1],\n",
      "        to_rgb=True),\n",
      "    dict(type='DefaultFormatBundle'),\n",
      "    dict(type='Collect', keys=['img', 'gt_bboxes', 'gt_labels'])\n",
      "]\n",
      "test_pipeline = [\n",
      "    dict(type='LoadImageFromFile'),\n",
      "    dict(\n",
      "        type='MultiScaleFlipAug',\n",
      "        img_scale=(300, 300),\n",
      "        flip=False,\n",
      "        transforms=[\n",
      "            dict(type='Resize', keep_ratio=False),\n",
      "            dict(\n",
      "                type='Normalize',\n",
      "                mean=[123.675, 116.28, 103.53],\n",
      "                std=[1, 1, 1],\n",
      "                to_rgb=True),\n",
      "            dict(type='ImageToTensor', keys=['img']),\n",
      "            dict(type='Collect', keys=['img'])\n",
      "        ])\n",
      "]\n",
      "data = dict(\n",
      "    samples_per_gpu=8,\n",
      "    workers_per_gpu=3,\n",
      "    train=dict(\n",
      "        type='RepeatDataset',\n",
      "        times=5,\n",
      "        dataset=dict(\n",
      "            type='CocoDataset',\n",
      "            ann_file=\n",
      "            '/home/anna/Загрузки/mmdetection/data/coco/annotations/instances_train2017.json',\n",
      "            img_prefix='data/coco/train2017/',\n",
      "            pipeline=[\n",
      "                dict(type='LoadImageFromFile'),\n",
      "                dict(type='LoadAnnotations', with_bbox=True),\n",
      "                dict(\n",
      "                    type='Expand',\n",
      "                    mean=[123.675, 116.28, 103.53],\n",
      "                    to_rgb=True,\n",
      "                    ratio_range=(1, 4)),\n",
      "                dict(\n",
      "                    type='MinIoURandomCrop',\n",
      "                    min_ious=(0.1, 0.3, 0.5, 0.7, 0.9),\n",
      "                    min_crop_size=0.3),\n",
      "                dict(type='Resize', img_scale=(300, 300), keep_ratio=False),\n",
      "                dict(type='RandomFlip', flip_ratio=0.5),\n",
      "                dict(\n",
      "                    type='PhotoMetricDistortion',\n",
      "                    brightness_delta=32,\n",
      "                    contrast_range=(0.5, 1.5),\n",
      "                    saturation_range=(0.5, 1.5),\n",
      "                    hue_delta=18),\n",
      "                dict(\n",
      "                    type='Normalize',\n",
      "                    mean=[123.675, 116.28, 103.53],\n",
      "                    std=[1, 1, 1],\n",
      "                    to_rgb=True),\n",
      "                dict(type='DefaultFormatBundle'),\n",
      "                dict(type='Collect', keys=['img', 'gt_bboxes', 'gt_labels'])\n",
      "            ],\n",
      "            data_root='/home/anna/Загрузки/mmdetection/')),\n",
      "    val=dict(\n",
      "        type='CocoDataset',\n",
      "        ann_file=\n",
      "        '/home/anna/Загрузки/mmdetection/data/coco/annotations/instances_val2017.json',\n",
      "        img_prefix='data/coco/val2017/',\n",
      "        pipeline=[\n",
      "            dict(type='LoadImageFromFile'),\n",
      "            dict(\n",
      "                type='MultiScaleFlipAug',\n",
      "                img_scale=(300, 300),\n",
      "                flip=False,\n",
      "                transforms=[\n",
      "                    dict(type='Resize', keep_ratio=False),\n",
      "                    dict(\n",
      "                        type='Normalize',\n",
      "                        mean=[123.675, 116.28, 103.53],\n",
      "                        std=[1, 1, 1],\n",
      "                        to_rgb=True),\n",
      "                    dict(type='ImageToTensor', keys=['img']),\n",
      "                    dict(type='Collect', keys=['img'])\n",
      "                ])\n",
      "        ]),\n",
      "    test=dict(\n",
      "        type='CocoDataset',\n",
      "        ann_file='data/coco/annotations/instances_val2017.json',\n",
      "        img_prefix='data/coco/val2017/',\n",
      "        pipeline=[\n",
      "            dict(type='LoadImageFromFile'),\n",
      "            dict(\n",
      "                type='MultiScaleFlipAug',\n",
      "                img_scale=(300, 300),\n",
      "                flip=False,\n",
      "                transforms=[\n",
      "                    dict(type='Resize', keep_ratio=False),\n",
      "                    dict(\n",
      "                        type='Normalize',\n",
      "                        mean=[123.675, 116.28, 103.53],\n",
      "                        std=[1, 1, 1],\n",
      "                        to_rgb=True),\n",
      "                    dict(type='ImageToTensor', keys=['img']),\n",
      "                    dict(type='Collect', keys=['img'])\n",
      "                ])\n",
      "        ]))\n",
      "evaluation = dict(interval=100, metric='mAP')\n",
      "optimizer = dict(type='SGD', lr=0.002, momentum=0.9, weight_decay=0.0005)\n",
      "optimizer_config = dict()\n",
      "lr_config = dict(\n",
      "    policy='step',\n",
      "    warmup='linear',\n",
      "    warmup_iters=500,\n",
      "    warmup_ratio=0.001,\n",
      "    step=[16, 22])\n",
      "runner = dict(type='EpochBasedRunner', max_epochs=24)\n",
      "checkpoint_config = dict(interval=100)\n",
      "log_config = dict(interval=100, hooks=[dict(type='TextLoggerHook')])\n",
      "custom_hooks = [\n",
      "    dict(type='NumClassCheckHook'),\n",
      "    dict(type='CheckInvalidLossHook', interval=50, priority='VERY_LOW')\n",
      "]\n",
      "dist_params = dict(backend='nccl')\n",
      "log_level = 'INFO'\n",
      "load_from = '/home/anna/MFTI/data/COCO/person_coco_ssd_eefic_.pth'\n",
      "resume_from = None\n",
      "workflow = [('train', 1)]\n",
      "opencv_num_threads = 0\n",
      "mp_start_method = 'fork'\n",
      "auto_scale_lr = dict(enable=False, base_batch_size=64)\n",
      "work_dir = '/home/anna/MFTI/data/COCO/tutorial_exps'\n",
      "seed = 42\n",
      "gpu_ids = range(0, 1)\n",
      "device = 'cpu'\n",
      "\n"
     ]
    }
   ],
   "source": [
    "\n",
    "cfg = Config.fromfile('/home/anna/Загрузки/mmdetection/configs/ssd/ssd300_coco.py')\n",
    "cfg.model['backbone'] = dict(\n",
    "        type='EfficientNet', # Using MobileNetV3 from mmcls\n",
    "        arch='b3',# Modify out_indices\n",
    "        \n",
    "        drop_path_rate=0.0, out_indices=(3,), #frozen_stages=3, \n",
    "        conv_cfg={'type': 'Conv2dAdaptivePadding'}, \n",
    "        norm_cfg={'eps': 0.001, 'type': 'BN'}, \n",
    "        act_cfg={'type': 'Swish'}, norm_eval=False, with_cp=False, \n",
    "        init_cfg=[{'type': 'Kaiming', 'layer': 'Conv2d'}, {'type': 'Constant', 'layer': ['_BatchNorm', 'GroupNorm'], 'val': 1},])\n",
    "\n",
    "cfg.data_root = '/home/anna/Загрузки/mmdetection/data/coco/'\n",
    "\n",
    "cfg.data.train.dataset.data_root = '/home/anna/Загрузки/mmdetection/'\n",
    "cfg.data.train.dataset.ann_file = '/home/anna/Загрузки/mmdetection/data/coco/annotations/instances_train2017.json'\n",
    "\n",
    "\n",
    "cfg.load_from = '/home/anna/MFTI/data/COCO/person_coco_ssd_eefic_.pth'\n",
    "\n",
    "\n",
    "cfg.data.val.ann_file = '/home/anna/Загрузки/mmdetection/data/coco/annotations/instances_val2017.json'\n",
    "cfg.model.bbox_head.num_classes = 1\n",
    "# Set up working dir to save files and logs.\n",
    "cfg.work_dir = '/home/anna/MFTI/data/COCO/tutorial_exps'\n",
    "\n",
    "\n",
    "cfg.log_config.interval = 100\n",
    "\n",
    "# Change the evaluation metric since we use customized dataset.\n",
    "cfg.evaluation.metric = 'mAP'\n",
    "# We can set the evaluation interval to reduce the evaluation times\n",
    "cfg.evaluation.interval = 100\n",
    "# We can set the checkpoint saving interval to reduce the storage cost\n",
    "cfg.checkpoint_config.interval = 100\n",
    "\n",
    "\n",
    "# Set seed thus the results are more reproducible\n",
    "cfg.seed = 42\n",
    "set_random_seed(42, deterministic=False)\n",
    "cfg.gpu_ids = range(1)\n",
    "cfg['device'] = 'cpu'\n",
    "# We can initialize the logger for training and have a look\n",
    "# at the final config used for training\n",
    "\n",
    "print(f'Config:\\n{cfg.pretty_text}')"
   ]
  },
  {
   "cell_type": "code",
   "execution_count": 3,
   "metadata": {},
   "outputs": [],
   "source": [
    "checkpoint = '/home/anna/Загрузки/checkpoints/ssd300_coco_20210803_015428-d231a06e.pth'"
   ]
  },
  {
   "cell_type": "code",
   "execution_count": 4,
   "metadata": {},
   "outputs": [],
   "source": [
    "# Set optimizer\n",
    "cfg.optimizer = dict(type='SGD', lr=0.00045, momentum=0.9, weight_decay=0.0001)\n",
    "cfg.optimizer_config = dict(grad_clip=dict(max_norm=35, norm_type=2))\n",
    "cfg.runner = dict(type='EpochBasedRunner', max_epochs=1)"
   ]
  },
  {
   "attachments": {},
   "cell_type": "markdown",
   "metadata": {},
   "source": [
    "![](/home/anna/Загрузки/mmdetection/data/coco/train2017/000000001407.jpg)"
   ]
  },
  {
   "cell_type": "code",
   "execution_count": 4,
   "metadata": {},
   "outputs": [
    {
     "name": "stdout",
     "output_type": "stream",
     "text": [
      "loading annotations into memory...\n",
      "Done (t=18.96s)\n",
      "creating index...\n",
      "index created!\n"
     ]
    },
    {
     "name": "stderr",
     "output_type": "stream",
     "text": [
      "2023-01-31 11:13:56,560 - mmdet - INFO - Automatic scaling of learning rate (LR) has been disabled.\n"
     ]
    },
    {
     "name": "stdout",
     "output_type": "stream",
     "text": [
      "loading annotations into memory...\n"
     ]
    },
    {
     "name": "stderr",
     "output_type": "stream",
     "text": [
      "2023-01-31 11:13:59,714 - mmdet - INFO - load checkpoint from local path: /home/anna/MFTI/data/COCO/person_coco_ssd_eefic_.pth\n"
     ]
    },
    {
     "name": "stdout",
     "output_type": "stream",
     "text": [
      "Done (t=2.89s)\n",
      "creating index...\n",
      "index created!\n"
     ]
    },
    {
     "name": "stderr",
     "output_type": "stream",
     "text": [
      "2023-01-31 11:13:59,808 - mmdet - INFO - Start running, host: anna@anna-PORTEGE-Z30-A, work_dir: /home/anna/MFTI/data/COCO/tutorial_exps\n",
      "2023-01-31 11:13:59,811 - mmdet - INFO - Hooks will be executed in the following order:\n",
      "before_run:\n",
      "(VERY_HIGH   ) StepLrUpdaterHook                  \n",
      "(NORMAL      ) CheckpointHook                     \n",
      "(LOW         ) EvalHook                           \n",
      "(VERY_LOW    ) TextLoggerHook                     \n",
      " -------------------- \n",
      "before_train_epoch:\n",
      "(VERY_HIGH   ) StepLrUpdaterHook                  \n",
      "(NORMAL      ) NumClassCheckHook                  \n",
      "(LOW         ) IterTimerHook                      \n",
      "(LOW         ) EvalHook                           \n",
      "(VERY_LOW    ) TextLoggerHook                     \n",
      " -------------------- \n",
      "before_train_iter:\n",
      "(VERY_HIGH   ) StepLrUpdaterHook                  \n",
      "(LOW         ) IterTimerHook                      \n",
      "(LOW         ) EvalHook                           \n",
      " -------------------- \n",
      "after_train_iter:\n",
      "(ABOVE_NORMAL) OptimizerHook                      \n",
      "(NORMAL      ) CheckpointHook                     \n",
      "(LOW         ) IterTimerHook                      \n",
      "(LOW         ) EvalHook                           \n",
      "(VERY_LOW    ) TextLoggerHook                     \n",
      "(VERY_LOW    ) CheckInvalidLossHook               \n",
      " -------------------- \n",
      "after_train_epoch:\n",
      "(NORMAL      ) CheckpointHook                     \n",
      "(LOW         ) EvalHook                           \n",
      "(VERY_LOW    ) TextLoggerHook                     \n",
      " -------------------- \n",
      "before_val_epoch:\n",
      "(NORMAL      ) NumClassCheckHook                  \n",
      "(LOW         ) IterTimerHook                      \n",
      "(VERY_LOW    ) TextLoggerHook                     \n",
      " -------------------- \n",
      "before_val_iter:\n",
      "(LOW         ) IterTimerHook                      \n",
      " -------------------- \n",
      "after_val_iter:\n",
      "(LOW         ) IterTimerHook                      \n",
      " -------------------- \n",
      "after_val_epoch:\n",
      "(VERY_LOW    ) TextLoggerHook                     \n",
      " -------------------- \n",
      "after_run:\n",
      "(VERY_LOW    ) TextLoggerHook                     \n",
      " -------------------- \n",
      "2023-01-31 11:13:59,812 - mmdet - INFO - workflow: [('train', 1)], max: 10 epochs\n",
      "2023-01-31 11:13:59,814 - mmdet - INFO - Checkpoints will be saved to /home/anna/MFTI/data/COCO/tutorial_exps by HardDiskBackend.\n"
     ]
    },
    {
     "name": "stdout",
     "output_type": "stream",
     "text": [
      "train\n"
     ]
    },
    {
     "name": "stderr",
     "output_type": "stream",
     "text": [
      "2023-01-31 11:32:19,893 - mmdet - INFO - Epoch [1][100/1010]\tlr: 3.960e-04, eta: 1 day, 6:33:26, time: 11.001, data_time: 0.375, loss_cls: 3.9237, loss_bbox: 4.2223, loss: 8.1460, grad_norm: 44.6369\n",
      "2023-01-31 11:49:01,295 - mmdet - INFO - Epoch [1][200/1010]\tlr: 7.960e-04, eta: 1 day, 4:53:42, time: 10.014, data_time: 0.328, loss_cls: 3.2078, loss_bbox: 3.8344, loss: 7.0422, grad_norm: 25.2352\n",
      "2023-01-31 12:06:23,130 - mmdet - INFO - Epoch [1][300/1010]\tlr: 1.196e-03, eta: 1 day, 4:31:21, time: 10.418, data_time: 0.354, loss_cls: 3.1540, loss_bbox: 3.8001, loss: 6.9541, grad_norm: 23.1173\n",
      "2023-01-31 12:23:20,538 - mmdet - INFO - Epoch [1][400/1010]\tlr: 1.596e-03, eta: 1 day, 4:01:37, time: 10.174, data_time: 0.355, loss_cls: 3.2573, loss_bbox: 3.7323, loss: 6.9897, grad_norm: 19.7260\n",
      "2023-01-31 12:39:11,578 - mmdet - INFO - Epoch [1][500/1010]\tlr: 1.996e-03, eta: 1 day, 3:15:45, time: 9.510, data_time: 0.363, loss_cls: 3.0054, loss_bbox: 3.5611, loss: 6.5664, grad_norm: 16.6632\n",
      "2023-01-31 12:56:05,830 - mmdet - INFO - Epoch [1][600/1010]\tlr: 2.000e-03, eta: 1 day, 2:56:34, time: 10.142, data_time: 0.365, loss_cls: 2.6791, loss_bbox: 3.4844, loss: 6.1635, grad_norm: 9.9780\n",
      "2023-01-31 13:12:09,408 - mmdet - INFO - Epoch [1][700/1010]\tlr: 2.000e-03, eta: 1 day, 2:26:42, time: 9.636, data_time: 0.366, loss_cls: 2.5821, loss_bbox: 3.6106, loss: 6.1928, grad_norm: 7.3045\n",
      "2023-01-31 13:30:32,161 - mmdet - INFO - Epoch [1][800/1010]\tlr: 2.000e-03, eta: 1 day, 2:27:15, time: 11.027, data_time: 0.409, loss_cls: 2.4948, loss_bbox: 3.6508, loss: 6.1457, grad_norm: 6.1455\n",
      "2023-01-31 13:47:57,030 - mmdet - INFO - Epoch [1][900/1010]\tlr: 2.000e-03, eta: 1 day, 2:13:44, time: 10.449, data_time: 0.398, loss_cls: 2.4555, loss_bbox: 3.4468, loss: 5.9023, grad_norm: 5.4409\n",
      "2023-01-31 14:04:36,541 - mmdet - INFO - Epoch [1][1000/1010]\tlr: 2.000e-03, eta: 1 day, 1:52:34, time: 9.995, data_time: 0.370, loss_cls: 2.4301, loss_bbox: 3.6380, loss: 6.0681, grad_norm: 5.4270\n"
     ]
    },
    {
     "name": "stdout",
     "output_type": "stream",
     "text": [
      "train\n"
     ]
    },
    {
     "name": "stderr",
     "output_type": "stream",
     "text": [
      "2023-01-31 14:24:35,596 - mmdet - INFO - Epoch [2][100/1010]\tlr: 2.000e-03, eta: 1 day, 1:30:08, time: 10.989, data_time: 0.442, loss_cls: 2.4080, loss_bbox: 3.6117, loss: 6.0197, grad_norm: 4.6148\n",
      "2023-01-31 14:38:41,577 - mmdet - INFO - Epoch [2][200/1010]\tlr: 2.000e-03, eta: 1 day, 0:51:39, time: 8.460, data_time: 0.323, loss_cls: 2.4540, loss_bbox: 3.6193, loss: 6.0733, grad_norm: 6.3785\n",
      "2023-01-31 14:52:08,359 - mmdet - INFO - Epoch [2][300/1010]\tlr: 2.000e-03, eta: 1 day, 0:12:30, time: 8.068, data_time: 0.298, loss_cls: 2.4004, loss_bbox: 3.4206, loss: 5.8210, grad_norm: 4.8319\n",
      "2023-01-31 15:05:36,109 - mmdet - INFO - Epoch [2][400/1010]\tlr: 2.000e-03, eta: 23:37:07, time: 8.077, data_time: 0.303, loss_cls: 2.4048, loss_bbox: 3.3355, loss: 5.7404, grad_norm: 4.8842\n",
      "2023-01-31 15:19:03,042 - mmdet - INFO - Epoch [2][500/1010]\tlr: 2.000e-03, eta: 23:04:32, time: 8.069, data_time: 0.285, loss_cls: 2.4030, loss_bbox: 3.4975, loss: 5.9005, grad_norm: 4.6648\n",
      "2023-01-31 15:31:46,003 - mmdet - INFO - Epoch [2][600/1010]\tlr: 2.000e-03, eta: 22:30:29, time: 7.630, data_time: 0.279, loss_cls: 2.3894, loss_bbox: 3.4501, loss: 5.8395, grad_norm: 4.6171\n",
      "2023-01-31 15:44:30,909 - mmdet - INFO - Epoch [2][700/1010]\tlr: 2.000e-03, eta: 21:59:05, time: 7.649, data_time: 0.285, loss_cls: 2.3832, loss_bbox: 3.3230, loss: 5.7062, grad_norm: 4.3416\n",
      "2023-01-31 15:56:59,774 - mmdet - INFO - Epoch [2][800/1010]\tlr: 2.000e-03, eta: 21:28:31, time: 7.489, data_time: 0.278, loss_cls: 2.3813, loss_bbox: 3.5022, loss: 5.8836, grad_norm: 4.4530\n",
      "2023-01-31 16:09:47,416 - mmdet - INFO - Epoch [2][900/1010]\tlr: 2.000e-03, eta: 21:01:11, time: 7.676, data_time: 0.287, loss_cls: 2.3829, loss_bbox: 3.4098, loss: 5.7927, grad_norm: 4.4411\n",
      "2023-01-31 16:22:36,678 - mmdet - INFO - Epoch [2][1000/1010]\tlr: 2.000e-03, eta: 20:35:24, time: 7.693, data_time: 0.290, loss_cls: 2.3831, loss_bbox: 3.3453, loss: 5.7284, grad_norm: 4.5852\n"
     ]
    },
    {
     "name": "stdout",
     "output_type": "stream",
     "text": [
      "train\n"
     ]
    },
    {
     "name": "stderr",
     "output_type": "stream",
     "text": [
      "2023-01-31 16:36:50,741 - mmdet - INFO - Epoch [3][100/1010]\tlr: 2.000e-03, eta: 20:04:06, time: 7.767, data_time: 0.312, loss_cls: 2.3706, loss_bbox: 3.5552, loss: 5.9257, grad_norm: 4.2147\n",
      "2023-01-31 16:49:29,982 - mmdet - INFO - Epoch [3][200/1010]\tlr: 2.000e-03, eta: 19:40:22, time: 7.592, data_time: 0.276, loss_cls: 2.3832, loss_bbox: 3.2810, loss: 5.6642, grad_norm: 4.3376\n",
      "2023-01-31 17:02:06,655 - mmdet - INFO - Epoch [3][300/1010]\tlr: 2.000e-03, eta: 19:17:27, time: 7.567, data_time: 0.276, loss_cls: 2.3494, loss_bbox: 3.3994, loss: 5.7489, grad_norm: 3.6300\n",
      "2023-01-31 17:14:46,257 - mmdet - INFO - Epoch [3][400/1010]\tlr: 2.000e-03, eta: 18:55:32, time: 7.596, data_time: 0.283, loss_cls: 2.3628, loss_bbox: 3.3329, loss: 5.6956, grad_norm: 4.1209\n",
      "2023-01-31 17:27:32,766 - mmdet - INFO - Epoch [3][500/1010]\tlr: 2.000e-03, eta: 18:34:42, time: 7.665, data_time: 0.276, loss_cls: 2.3577, loss_bbox: 3.2989, loss: 5.6566, grad_norm: 4.0390\n",
      "2023-01-31 17:40:49,609 - mmdet - INFO - Epoch [3][600/1010]\tlr: 2.000e-03, eta: 18:15:56, time: 7.968, data_time: 0.293, loss_cls: 2.3619, loss_bbox: 3.3707, loss: 5.7326, grad_norm: 4.1712\n",
      "2023-01-31 17:54:28,831 - mmdet - INFO - Epoch [3][700/1010]\tlr: 2.000e-03, eta: 17:58:34, time: 8.192, data_time: 0.302, loss_cls: 2.3640, loss_bbox: 3.2942, loss: 5.6583, grad_norm: 4.1431\n",
      "2023-01-31 18:07:52,326 - mmdet - INFO - Epoch [3][800/1010]\tlr: 2.000e-03, eta: 17:40:48, time: 8.035, data_time: 0.292, loss_cls: 2.3589, loss_bbox: 3.3696, loss: 5.7286, grad_norm: 4.0421\n",
      "2023-01-31 18:21:13,326 - mmdet - INFO - Epoch [3][900/1010]\tlr: 2.000e-03, eta: 17:23:13, time: 8.010, data_time: 0.292, loss_cls: 2.3551, loss_bbox: 3.3043, loss: 5.6594, grad_norm: 3.7877\n",
      "2023-01-31 18:34:01,782 - mmdet - INFO - Epoch [3][1000/1010]\tlr: 2.000e-03, eta: 17:04:39, time: 7.685, data_time: 0.290, loss_cls: 2.3426, loss_bbox: 3.2731, loss: 5.6158, grad_norm: 3.7643\n"
     ]
    },
    {
     "name": "stdout",
     "output_type": "stream",
     "text": [
      "train\n"
     ]
    },
    {
     "name": "stderr",
     "output_type": "stream",
     "text": [
      "2023-01-31 18:48:21,177 - mmdet - INFO - Epoch [4][100/1010]\tlr: 2.000e-03, eta: 16:42:16, time: 7.807, data_time: 0.307, loss_cls: 2.3501, loss_bbox: 3.2542, loss: 5.6042, grad_norm: 3.7864\n",
      "2023-01-31 19:01:27,902 - mmdet - INFO - Epoch [4][200/1010]\tlr: 2.000e-03, eta: 16:25:11, time: 7.867, data_time: 0.290, loss_cls: 2.3426, loss_bbox: 3.2553, loss: 5.5979, grad_norm: 3.4972\n",
      "2023-01-31 19:14:37,700 - mmdet - INFO - Epoch [4][300/1010]\tlr: 2.000e-03, eta: 16:08:27, time: 7.898, data_time: 0.305, loss_cls: 2.3387, loss_bbox: 3.3956, loss: 5.7343, grad_norm: 3.4250\n",
      "2023-01-31 19:27:42,130 - mmdet - INFO - Epoch [4][400/1010]\tlr: 2.000e-03, eta: 15:51:45, time: 7.844, data_time: 0.297, loss_cls: 2.3336, loss_bbox: 3.4766, loss: 5.8102, grad_norm: 3.6721\n",
      "2023-01-31 19:40:50,369 - mmdet - INFO - Epoch [4][500/1010]\tlr: 2.000e-03, eta: 15:35:22, time: 7.882, data_time: 0.292, loss_cls: 2.3393, loss_bbox: 3.2148, loss: 5.5542, grad_norm: 3.9803\n",
      "2023-01-31 19:53:42,235 - mmdet - INFO - Epoch [4][600/1010]\tlr: 2.000e-03, eta: 15:18:41, time: 7.719, data_time: 0.293, loss_cls: 2.3478, loss_bbox: 3.3406, loss: 5.6884, grad_norm: 3.9268\n",
      "2023-01-31 20:06:49,716 - mmdet - INFO - Epoch [4][700/1010]\tlr: 2.000e-03, eta: 15:02:39, time: 7.875, data_time: 0.291, loss_cls: 2.3329, loss_bbox: 3.2622, loss: 5.5951, grad_norm: 3.7875\n",
      "2023-01-31 20:19:59,412 - mmdet - INFO - Epoch [4][800/1010]\tlr: 2.000e-03, eta: 14:46:50, time: 7.897, data_time: 0.304, loss_cls: 2.3426, loss_bbox: 3.2899, loss: 5.6325, grad_norm: 3.4892\n",
      "2023-01-31 20:33:01,552 - mmdet - INFO - Epoch [4][900/1010]\tlr: 2.000e-03, eta: 14:30:57, time: 7.821, data_time: 0.291, loss_cls: 2.3316, loss_bbox: 3.2774, loss: 5.6090, grad_norm: 3.4629\n",
      "2023-01-31 20:46:13,690 - mmdet - INFO - Epoch [4][1000/1010]\tlr: 2.000e-03, eta: 14:15:27, time: 7.921, data_time: 0.293, loss_cls: 2.3381, loss_bbox: 3.2979, loss: 5.6360, grad_norm: 3.9853\n"
     ]
    },
    {
     "name": "stdout",
     "output_type": "stream",
     "text": [
      "train\n"
     ]
    },
    {
     "name": "stderr",
     "output_type": "stream",
     "text": [
      "2023-01-31 21:00:48,250 - mmdet - INFO - Epoch [5][100/1010]\tlr: 2.000e-03, eta: 13:56:39, time: 7.926, data_time: 0.312, loss_cls: 2.3305, loss_bbox: 3.3082, loss: 5.6387, grad_norm: 3.4316\n",
      "2023-01-31 21:14:39,819 - mmdet - INFO - Epoch [5][200/1010]\tlr: 2.000e-03, eta: 13:42:22, time: 8.316, data_time: 0.288, loss_cls: 2.3474, loss_bbox: 3.3388, loss: 5.6862, grad_norm: 4.3605\n",
      "2023-01-31 21:29:33,135 - mmdet - INFO - Epoch [5][300/1010]\tlr: 2.000e-03, eta: 13:29:28, time: 8.933, data_time: 0.310, loss_cls: 2.3345, loss_bbox: 3.1535, loss: 5.4880, grad_norm: 3.6599\n",
      "2023-01-31 21:43:59,770 - mmdet - INFO - Epoch [5][400/1010]\tlr: 2.000e-03, eta: 13:15:55, time: 8.666, data_time: 0.304, loss_cls: 2.3325, loss_bbox: 3.2452, loss: 5.5778, grad_norm: 3.6687\n",
      "2023-01-31 21:58:26,611 - mmdet - INFO - Epoch [5][500/1010]\tlr: 2.000e-03, eta: 13:02:19, time: 8.668, data_time: 0.298, loss_cls: 2.3324, loss_bbox: 3.2947, loss: 5.6271, grad_norm: 3.5167\n",
      "2023-01-31 22:12:53,888 - mmdet - INFO - Epoch [5][600/1010]\tlr: 2.000e-03, eta: 12:48:42, time: 8.673, data_time: 0.292, loss_cls: 2.3274, loss_bbox: 3.3267, loss: 5.6541, grad_norm: 3.3554\n",
      "2023-01-31 22:27:21,676 - mmdet - INFO - Epoch [5][700/1010]\tlr: 2.000e-03, eta: 12:35:04, time: 8.678, data_time: 0.303, loss_cls: 2.3265, loss_bbox: 3.2579, loss: 5.5844, grad_norm: 3.4164\n",
      "2023-01-31 22:41:46,509 - mmdet - INFO - Epoch [5][800/1010]\tlr: 2.000e-03, eta: 12:21:20, time: 8.648, data_time: 0.298, loss_cls: 2.3289, loss_bbox: 3.2538, loss: 5.5827, grad_norm: 3.4425\n",
      "2023-01-31 22:56:02,072 - mmdet - INFO - Epoch [5][900/1010]\tlr: 2.000e-03, eta: 12:07:24, time: 8.556, data_time: 0.298, loss_cls: 2.3295, loss_bbox: 3.2192, loss: 5.5487, grad_norm: 3.2593\n",
      "2023-01-31 23:10:19,480 - mmdet - INFO - Epoch [5][1000/1010]\tlr: 2.000e-03, eta: 11:53:30, time: 8.574, data_time: 0.287, loss_cls: 2.3208, loss_bbox: 3.2780, loss: 5.5988, grad_norm: 3.2116\n"
     ]
    },
    {
     "name": "stdout",
     "output_type": "stream",
     "text": [
      "train\n"
     ]
    },
    {
     "name": "stderr",
     "output_type": "stream",
     "text": [
      "2023-01-31 23:26:01,952 - mmdet - INFO - Epoch [6][100/1010]\tlr: 2.000e-03, eta: 11:36:46, time: 8.541, data_time: 0.308, loss_cls: 2.3243, loss_bbox: 3.2850, loss: 5.6092, grad_norm: 3.4001\n",
      "2023-01-31 23:40:17,835 - mmdet - INFO - Epoch [6][200/1010]\tlr: 2.000e-03, eta: 11:22:52, time: 8.559, data_time: 0.302, loss_cls: 2.3116, loss_bbox: 3.3774, loss: 5.6890, grad_norm: 3.1035\n",
      "2023-01-31 23:54:31,687 - mmdet - INFO - Epoch [6][300/1010]\tlr: 2.000e-03, eta: 11:08:55, time: 8.539, data_time: 0.301, loss_cls: 2.3172, loss_bbox: 3.2305, loss: 5.5477, grad_norm: 3.7806\n",
      "2023-02-01 00:08:52,046 - mmdet - INFO - Epoch [6][400/1010]\tlr: 2.000e-03, eta: 10:55:03, time: 8.604, data_time: 0.301, loss_cls: 2.3175, loss_bbox: 3.3794, loss: 5.6969, grad_norm: 3.1362\n",
      "2023-02-01 00:23:01,539 - mmdet - INFO - Epoch [6][500/1010]\tlr: 2.000e-03, eta: 10:41:01, time: 8.495, data_time: 0.306, loss_cls: 2.3257, loss_bbox: 3.2551, loss: 5.5808, grad_norm: 4.3395\n",
      "2023-02-01 00:37:11,603 - mmdet - INFO - Epoch [6][600/1010]\tlr: 2.000e-03, eta: 10:27:00, time: 8.501, data_time: 0.288, loss_cls: 2.3350, loss_bbox: 3.1586, loss: 5.4936, grad_norm: 3.5377\n",
      "2023-02-01 00:51:22,129 - mmdet - INFO - Epoch [6][700/1010]\tlr: 2.000e-03, eta: 10:12:58, time: 8.505, data_time: 0.299, loss_cls: 2.3259, loss_bbox: 3.2954, loss: 5.6213, grad_norm: 3.5109\n",
      "2023-02-01 01:05:27,461 - mmdet - INFO - Epoch [6][800/1010]\tlr: 2.000e-03, eta: 9:58:53, time: 8.453, data_time: 0.295, loss_cls: 2.3267, loss_bbox: 3.2689, loss: 5.5956, grad_norm: 3.4020\n",
      "2023-02-01 01:19:34,476 - mmdet - INFO - Epoch [6][900/1010]\tlr: 2.000e-03, eta: 9:44:48, time: 8.470, data_time: 0.292, loss_cls: 2.3199, loss_bbox: 3.1227, loss: 5.4425, grad_norm: 3.4067\n",
      "2023-02-01 01:33:45,335 - mmdet - INFO - Epoch [6][1000/1010]\tlr: 2.000e-03, eta: 9:30:46, time: 8.509, data_time: 0.293, loss_cls: 2.3155, loss_bbox: 3.2770, loss: 5.5926, grad_norm: 3.1462\n"
     ]
    },
    {
     "name": "stdout",
     "output_type": "stream",
     "text": [
      "train\n"
     ]
    },
    {
     "name": "stderr",
     "output_type": "stream",
     "text": [
      "2023-02-01 01:49:19,074 - mmdet - INFO - Epoch [7][100/1010]\tlr: 2.000e-03, eta: 9:14:23, time: 8.472, data_time: 0.310, loss_cls: 2.3122, loss_bbox: 3.1691, loss: 5.4813, grad_norm: 3.2369\n",
      "2023-02-01 02:03:26,233 - mmdet - INFO - Epoch [7][200/1010]\tlr: 2.000e-03, eta: 9:00:21, time: 8.472, data_time: 0.299, loss_cls: 2.3210, loss_bbox: 3.2727, loss: 5.5937, grad_norm: 2.9614\n",
      "2023-02-01 02:17:43,555 - mmdet - INFO - Epoch [7][300/1010]\tlr: 2.000e-03, eta: 8:46:24, time: 8.573, data_time: 0.292, loss_cls: 2.3110, loss_bbox: 3.3081, loss: 5.6191, grad_norm: 3.1143\n",
      "2023-02-01 02:31:51,430 - mmdet - INFO - Epoch [7][400/1010]\tlr: 2.000e-03, eta: 8:32:21, time: 8.479, data_time: 0.300, loss_cls: 2.3102, loss_bbox: 3.2830, loss: 5.5932, grad_norm: 2.9208\n",
      "2023-02-01 02:45:54,257 - mmdet - INFO - Epoch [7][500/1010]\tlr: 2.000e-03, eta: 8:18:16, time: 8.428, data_time: 0.280, loss_cls: 2.3037, loss_bbox: 3.1899, loss: 5.4935, grad_norm: 2.8637\n",
      "2023-02-01 02:59:54,915 - mmdet - INFO - Epoch [7][600/1010]\tlr: 2.000e-03, eta: 8:04:09, time: 8.407, data_time: 0.293, loss_cls: 2.3110, loss_bbox: 3.2965, loss: 5.6075, grad_norm: 3.1711\n",
      "2023-02-01 03:14:01,381 - mmdet - INFO - Epoch [7][700/1010]\tlr: 2.000e-03, eta: 7:50:06, time: 8.465, data_time: 0.295, loss_cls: 2.3102, loss_bbox: 3.2517, loss: 5.5619, grad_norm: 3.0245\n",
      "2023-02-01 03:28:04,619 - mmdet - INFO - Epoch [7][800/1010]\tlr: 2.000e-03, eta: 7:36:01, time: 8.432, data_time: 0.292, loss_cls: 2.3058, loss_bbox: 3.3425, loss: 5.6483, grad_norm: 3.4951\n",
      "2023-02-01 03:42:09,802 - mmdet - INFO - Epoch [7][900/1010]\tlr: 2.000e-03, eta: 7:21:57, time: 8.452, data_time: 0.294, loss_cls: 2.3075, loss_bbox: 3.1542, loss: 5.4617, grad_norm: 3.1401\n",
      "2023-02-01 03:56:19,932 - mmdet - INFO - Epoch [7][1000/1010]\tlr: 2.000e-03, eta: 7:07:55, time: 8.501, data_time: 0.298, loss_cls: 2.3120, loss_bbox: 3.3114, loss: 5.6234, grad_norm: 3.0776\n"
     ]
    },
    {
     "name": "stdout",
     "output_type": "stream",
     "text": [
      "train\n"
     ]
    },
    {
     "name": "stderr",
     "output_type": "stream",
     "text": [
      "2023-02-01 04:11:38,800 - mmdet - INFO - Epoch [8][100/1010]\tlr: 2.000e-03, eta: 6:51:47, time: 8.345, data_time: 0.310, loss_cls: 2.3078, loss_bbox: 3.2419, loss: 5.5497, grad_norm: 2.9883\n",
      "2023-02-01 04:25:41,360 - mmdet - INFO - Epoch [8][200/1010]\tlr: 2.000e-03, eta: 6:37:43, time: 8.426, data_time: 0.299, loss_cls: 2.3169, loss_bbox: 3.2256, loss: 5.5425, grad_norm: 2.9618\n",
      "2023-02-01 04:39:36,264 - mmdet - INFO - Epoch [8][300/1010]\tlr: 2.000e-03, eta: 6:23:37, time: 8.349, data_time: 0.288, loss_cls: 2.3110, loss_bbox: 3.2047, loss: 5.5157, grad_norm: 3.1136\n",
      "2023-02-01 04:53:20,190 - mmdet - INFO - Epoch [8][400/1010]\tlr: 2.000e-03, eta: 6:09:27, time: 8.239, data_time: 0.294, loss_cls: 2.3119, loss_bbox: 3.3812, loss: 5.6932, grad_norm: 3.0860\n",
      "2023-02-01 05:07:12,692 - mmdet - INFO - Epoch [8][500/1010]\tlr: 2.000e-03, eta: 5:55:21, time: 8.325, data_time: 0.291, loss_cls: 2.3022, loss_bbox: 3.3299, loss: 5.6321, grad_norm: 2.8008\n",
      "2023-02-01 05:21:02,672 - mmdet - INFO - Epoch [8][600/1010]\tlr: 2.000e-03, eta: 5:41:14, time: 8.300, data_time: 0.291, loss_cls: 2.3072, loss_bbox: 3.1584, loss: 5.4656, grad_norm: 2.9161\n",
      "2023-02-01 05:34:49,346 - mmdet - INFO - Epoch [8][700/1010]\tlr: 2.000e-03, eta: 5:27:07, time: 8.267, data_time: 0.300, loss_cls: 2.3101, loss_bbox: 3.3209, loss: 5.6310, grad_norm: 2.9868\n",
      "2023-02-01 05:48:38,646 - mmdet - INFO - Epoch [8][800/1010]\tlr: 2.000e-03, eta: 5:13:01, time: 8.293, data_time: 0.298, loss_cls: 2.3016, loss_bbox: 3.1912, loss: 5.4928, grad_norm: 2.8850\n",
      "2023-02-01 06:02:27,137 - mmdet - INFO - Epoch [8][900/1010]\tlr: 2.000e-03, eta: 4:58:55, time: 8.285, data_time: 0.285, loss_cls: 2.3072, loss_bbox: 3.1507, loss: 5.4579, grad_norm: 2.8247\n",
      "2023-02-01 06:16:39,801 - mmdet - INFO - Epoch [8][1000/1010]\tlr: 2.000e-03, eta: 4:44:55, time: 8.527, data_time: 0.303, loss_cls: 2.3102, loss_bbox: 3.2401, loss: 5.5503, grad_norm: 3.1322\n"
     ]
    },
    {
     "name": "stdout",
     "output_type": "stream",
     "text": [
      "train\n"
     ]
    },
    {
     "name": "stderr",
     "output_type": "stream",
     "text": [
      "2023-02-01 06:31:52,613 - mmdet - INFO - Epoch [9][100/1010]\tlr: 2.000e-04, eta: 4:29:06, time: 8.279, data_time: 0.311, loss_cls: 2.2930, loss_bbox: 3.2256, loss: 5.5186, grad_norm: 2.7256\n",
      "2023-02-01 06:46:19,099 - mmdet - INFO - Epoch [9][200/1010]\tlr: 2.000e-04, eta: 4:15:11, time: 8.665, data_time: 0.311, loss_cls: 2.2828, loss_bbox: 3.3309, loss: 5.6136, grad_norm: 2.6482\n",
      "2023-02-01 07:00:09,979 - mmdet - INFO - Epoch [9][300/1010]\tlr: 2.000e-04, eta: 4:01:07, time: 8.309, data_time: 0.295, loss_cls: 2.2839, loss_bbox: 3.2839, loss: 5.5678, grad_norm: 2.8238\n",
      "2023-02-01 07:14:00,523 - mmdet - INFO - Epoch [9][400/1010]\tlr: 2.000e-04, eta: 3:47:04, time: 8.305, data_time: 0.294, loss_cls: 2.2839, loss_bbox: 3.2825, loss: 5.5664, grad_norm: 2.5596\n",
      "2023-02-01 07:28:05,446 - mmdet - INFO - Epoch [9][500/1010]\tlr: 2.000e-04, eta: 3:33:04, time: 8.449, data_time: 0.302, loss_cls: 2.2848, loss_bbox: 3.2490, loss: 5.5337, grad_norm: 2.8957\n",
      "2023-02-01 07:42:09,068 - mmdet - INFO - Epoch [9][600/1010]\tlr: 2.000e-04, eta: 3:19:03, time: 8.436, data_time: 0.289, loss_cls: 2.2797, loss_bbox: 3.1823, loss: 5.4619, grad_norm: 2.5303\n",
      "2023-02-01 07:56:25,227 - mmdet - INFO - Epoch [9][700/1010]\tlr: 2.000e-04, eta: 3:05:04, time: 8.562, data_time: 0.312, loss_cls: 2.2811, loss_bbox: 3.2329, loss: 5.5140, grad_norm: 2.6907\n",
      "2023-02-01 08:10:56,914 - mmdet - INFO - Epoch [9][800/1010]\tlr: 2.000e-04, eta: 2:51:07, time: 8.717, data_time: 0.319, loss_cls: 2.2858, loss_bbox: 3.2487, loss: 5.5345, grad_norm: 3.1854\n",
      "2023-02-01 08:25:30,577 - mmdet - INFO - Epoch [9][900/1010]\tlr: 2.000e-04, eta: 2:37:10, time: 8.737, data_time: 0.324, loss_cls: 2.2828, loss_bbox: 3.2094, loss: 5.4922, grad_norm: 2.5253\n",
      "2023-02-01 08:40:13,713 - mmdet - INFO - Epoch [9][1000/1010]\tlr: 2.000e-04, eta: 2:23:12, time: 8.831, data_time: 0.318, loss_cls: 2.2831, loss_bbox: 3.2224, loss: 5.5055, grad_norm: 2.6822\n"
     ]
    },
    {
     "name": "stdout",
     "output_type": "stream",
     "text": [
      "train\n"
     ]
    },
    {
     "name": "stderr",
     "output_type": "stream",
     "text": [
      "2023-02-01 08:56:14,540 - mmdet - INFO - Epoch [10][100/1010]\tlr: 2.000e-04, eta: 2:07:40, time: 8.747, data_time: 0.327, loss_cls: 2.2846, loss_bbox: 3.2114, loss: 5.4960, grad_norm: 2.7100\n",
      "2023-02-01 09:10:41,787 - mmdet - INFO - Epoch [10][200/1010]\tlr: 2.000e-04, eta: 1:53:41, time: 8.672, data_time: 0.306, loss_cls: 2.2814, loss_bbox: 3.1252, loss: 5.4066, grad_norm: 2.8084\n",
      "2023-02-01 09:24:16,905 - mmdet - INFO - Epoch [10][300/1010]\tlr: 2.000e-04, eta: 1:39:37, time: 8.151, data_time: 0.282, loss_cls: 2.2865, loss_bbox: 3.2399, loss: 5.5264, grad_norm: 2.7433\n",
      "2023-02-01 09:38:03,370 - mmdet - INFO - Epoch [10][400/1010]\tlr: 2.000e-04, eta: 1:25:34, time: 8.265, data_time: 0.299, loss_cls: 2.2780, loss_bbox: 3.2149, loss: 5.4929, grad_norm: 2.5001\n",
      "2023-02-01 09:51:32,623 - mmdet - INFO - Epoch [10][500/1010]\tlr: 2.000e-04, eta: 1:11:30, time: 8.093, data_time: 0.288, loss_cls: 2.2793, loss_bbox: 3.2439, loss: 5.5231, grad_norm: 2.5114\n",
      "2023-02-01 10:04:54,507 - mmdet - INFO - Epoch [10][600/1010]\tlr: 2.000e-04, eta: 0:57:27, time: 8.019, data_time: 0.283, loss_cls: 2.2799, loss_bbox: 3.2574, loss: 5.5373, grad_norm: 2.6047\n",
      "2023-02-01 10:18:06,333 - mmdet - INFO - Epoch [10][700/1010]\tlr: 2.000e-04, eta: 0:43:25, time: 7.918, data_time: 0.273, loss_cls: 2.2797, loss_bbox: 3.2136, loss: 5.4933, grad_norm: 2.5900\n",
      "2023-02-01 10:31:11,169 - mmdet - INFO - Epoch [10][800/1010]\tlr: 2.000e-04, eta: 0:29:23, time: 7.848, data_time: 0.281, loss_cls: 2.2804, loss_bbox: 3.2822, loss: 5.5626, grad_norm: 2.6112\n",
      "2023-02-01 10:44:32,596 - mmdet - INFO - Epoch [10][900/1010]\tlr: 2.000e-04, eta: 0:15:23, time: 8.014, data_time: 0.284, loss_cls: 2.2835, loss_bbox: 3.2360, loss: 5.5195, grad_norm: 2.7137\n",
      "2023-02-01 10:58:20,244 - mmdet - INFO - Epoch [10][1000/1010]\tlr: 2.000e-04, eta: 0:01:23, time: 8.276, data_time: 0.294, loss_cls: 2.2803, loss_bbox: 3.2578, loss: 5.5381, grad_norm: 2.6178\n",
      "2023-02-01 10:59:45,964 - mmdet - INFO - Saving checkpoint at 10 epochs\n"
     ]
    }
   ],
   "source": [
    "from mmdet.datasets import build_dataset\n",
    "from mmdet.models import build_detector\n",
    "from mmdet.apis import train_detector\n",
    "cfg.data.workers_per_gpu=0\n",
    "\n",
    "# Set optimizer\n",
    "cfg.optimizer = dict(type='SGD', lr=0.002, momentum=0.9, weight_decay=0.0001)\n",
    "cfg.optimizer_config = dict(grad_clip=dict(max_norm=35, norm_type=2))\n",
    "# Set customized learning policy\n",
    "cfg.lr_config = dict(\n",
    "    policy='step',\n",
    "    warmup='linear',\n",
    "    warmup_iters=500,\n",
    "    warmup_ratio=0.0000000001,\n",
    "    step=[8])\n",
    "cfg.runner = dict(type='EpochBasedRunner', max_epochs=10)\n",
    "\n",
    "model = build_detector( cfg.model, train_cfg=cfg.get('train_cfg'), test_cfg=cfg.get('test_cfg'))\n",
    "datasets = [build_dataset(cfg.data.train)]\n",
    "\n",
    "train_detector(model, datasets, cfg, distributed=False, validate=True)"
   ]
  },
  {
   "cell_type": "code",
   "execution_count": 5,
   "metadata": {},
   "outputs": [],
   "source": [
    "import pickle\n",
    "torch.save(model.state_dict(), '/home/anna/MFTI/data/person_coco_ssd_2.pth')\n",
    "pickle.dump(model, open ('/home/anna/MFTI/data/ssd_model.pkl', 'wb'))"
   ]
  }
 ],
 "metadata": {
  "kernelspec": {
   "display_name": "Python 3",
   "language": "python",
   "name": "python3"
  },
  "language_info": {
   "codemirror_mode": {
    "name": "ipython",
    "version": 3
   },
   "file_extension": ".py",
   "mimetype": "text/x-python",
   "name": "python",
   "nbconvert_exporter": "python",
   "pygments_lexer": "ipython3",
   "version": "3.10.6"
  },
  "orig_nbformat": 4,
  "vscode": {
   "interpreter": {
    "hash": "e7370f93d1d0cde622a1f8e1c04877d8463912d04d973331ad4851f04de6915a"
   }
  }
 },
 "nbformat": 4,
 "nbformat_minor": 2
}
